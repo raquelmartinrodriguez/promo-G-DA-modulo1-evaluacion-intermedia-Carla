{
 "cells": [
  {
   "cell_type": "markdown",
   "metadata": {},
   "source": [
    "## Pair programming Sentencias de Control\n",
    "bucles for, list comprehension y try ..except"
   ]
  },
  {
   "cell_type": "markdown",
   "metadata": {},
   "source": [
    "Ejericios bucles for\n"
   ]
  },
  {
   "cell_type": "markdown",
   "metadata": {},
   "source": [
    "1. Imprimir los números del 1 al 5 utilizando un bucle for\n",
    "    - Descripción: Utiliza un bucle for para imprimir los números del 1 al 5 (incluido) en orden ascendente."
   ]
  },
  {
   "cell_type": "code",
   "execution_count": 2,
   "metadata": {},
   "outputs": [
    {
     "name": "stdout",
     "output_type": "stream",
     "text": [
      "1\n",
      "2\n",
      "3\n",
      "4\n",
      "5\n"
     ]
    }
   ],
   "source": [
    "numeros = range (6)\n",
    "\n",
    "for x in range (1,6):\n",
    "    print (x)"
   ]
  },
  {
   "cell_type": "markdown",
   "metadata": {},
   "source": [
    "2. Calcular la suma de los primeros 10 números naturales utilizando un bucle for\n",
    "    - Descripción: Utiliza un bucle for para calcular la suma de los primeros 10 números naturales (1 + 2 + 3 + ... + 10)."
   ]
  },
  {
   "cell_type": "code",
   "execution_count": 1,
   "metadata": {},
   "outputs": [
    {
     "name": "stdout",
     "output_type": "stream",
     "text": [
      "55\n"
     ]
    }
   ],
   "source": [
    "suma_numeros = 0\n",
    "\n",
    "for n in range (1,11):\n",
    "   suma_numeros += n\n",
    "\n",
    "print (suma_numeros)\n",
    "\n",
    " \n"
   ]
  },
  {
   "cell_type": "markdown",
   "metadata": {},
   "source": [
    "3. Calcular el producto de los elementos de una lista.\n",
    "    - Descripción: Dada una lista de números, utiliza un bucle for para calcular el producto de todos los elementos."
   ]
  },
  {
   "cell_type": "code",
   "execution_count": 2,
   "metadata": {},
   "outputs": [
    {
     "name": "stdout",
     "output_type": "stream",
     "text": [
      "120\n"
     ]
    }
   ],
   "source": [
    "producto = 1\n",
    "\n",
    "for p in range (1,6):\n",
    "    producto *= p\n",
    "\n",
    "print (producto)"
   ]
  },
  {
   "cell_type": "markdown",
   "metadata": {},
   "source": [
    "4. Imprimir los caracteres de una cadena de texto\n",
    "    - Descripción: Dada una cadena de texto, utiliza un bucle for para imprimir cada carácter en una línea separada."
   ]
  },
  {
   "cell_type": "code",
   "execution_count": 3,
   "metadata": {},
   "outputs": [
    {
     "name": "stdout",
     "output_type": "stream",
     "text": [
      "e\n",
      "s\n",
      "t\n",
      "a\n",
      " \n",
      "e\n",
      "s\n",
      " \n",
      "u\n",
      "n\n",
      "a\n",
      " \n",
      "c\n",
      "a\n",
      "d\n",
      "e\n",
      "n\n",
      "a\n",
      " \n",
      "c\n",
      "o\n",
      "n\n",
      " \n",
      "s\n",
      "i\n",
      "e\n",
      "t\n",
      "e\n",
      " \n",
      "p\n",
      "a\n",
      "l\n",
      "a\n",
      "b\n",
      "r\n",
      "a\n",
      "s\n"
     ]
    }
   ],
   "source": [
    "cadena = 'esta es una cadena con siete palabras'\n",
    "\n",
    "\n",
    "for letra in cadena:\n",
    "    print (letra)\n",
    "  "
   ]
  },
  {
   "cell_type": "markdown",
   "metadata": {},
   "source": [
    "5. Imprimir los números pares del 1 al 100 utilizando un bucle for.\n",
    "    - Descripción: Utiliza un bucle for para imprimir los números pares del 1 al 100 en orden ascendente."
   ]
  },
  {
   "cell_type": "code",
   "execution_count": 9,
   "metadata": {},
   "outputs": [
    {
     "data": {
      "text/plain": [
       "[2,\n",
       " 4,\n",
       " 6,\n",
       " 8,\n",
       " 10,\n",
       " 12,\n",
       " 14,\n",
       " 16,\n",
       " 18,\n",
       " 20,\n",
       " 22,\n",
       " 24,\n",
       " 26,\n",
       " 28,\n",
       " 30,\n",
       " 32,\n",
       " 34,\n",
       " 36,\n",
       " 38,\n",
       " 40,\n",
       " 42,\n",
       " 44,\n",
       " 46,\n",
       " 48,\n",
       " 50,\n",
       " 52,\n",
       " 54,\n",
       " 56,\n",
       " 58,\n",
       " 60,\n",
       " 62,\n",
       " 64,\n",
       " 66,\n",
       " 68,\n",
       " 70,\n",
       " 72,\n",
       " 74,\n",
       " 76,\n",
       " 78,\n",
       " 80,\n",
       " 82,\n",
       " 84,\n",
       " 86,\n",
       " 88,\n",
       " 90,\n",
       " 92,\n",
       " 94,\n",
       " 96,\n",
       " 98]"
      ]
     },
     "execution_count": 9,
     "metadata": {},
     "output_type": "execute_result"
    }
   ],
   "source": [
    "numeros_pares = []\n",
    "\n",
    "for num in range (1,100):\n",
    "    if num %2 == 0:\n",
    "        numeros_pares.append (num)\n",
    "        \n",
    "numeros_pares"
   ]
  },
  {
   "cell_type": "markdown",
   "metadata": {},
   "source": [
    "6. Imprimir los números primos del 1 al 50 utilizando un bucle for.\n",
    "    - Descripción: Utiliza un bucle for para imprimir los números primos del 1 al 50 en orden ascendente.\n",
    "    - NOTA: Según la Wikipedia, un número primo es un número natural mayor que 1 que no tiene divisores positivos más que 1 y él mismo."
   ]
  },
  {
   "cell_type": "code",
   "execution_count": 26,
   "metadata": {},
   "outputs": [
    {
     "data": {
      "text/plain": [
       "[2, 3, 5, 7, 11, 13, 17, 19, 23, 29, 31, 37, 41, 43, 47]"
      ]
     },
     "execution_count": 26,
     "metadata": {},
     "output_type": "execute_result"
    }
   ],
   "source": [
    "numeros_primos = []\n",
    "\n",
    "\n",
    "for num in range (1,50):\n",
    "    if num > 1:\n",
    "        for i in range(2, int(num**0.5) + 1):\n",
    "            if num % i == 0:\n",
    "                break\n",
    "        else:\n",
    "            numeros_primos.append (num)\n",
    "\n",
    "numeros_primos"
   ]
  },
  {
   "cell_type": "markdown",
   "metadata": {},
   "source": [
    "7. Calcular el factorial de un número utilizando un bucle for\n",
    "    - Descripción: Dado un número entero positivo, calcula su factorial utilizando un bucle for."
   ]
  },
  {
   "cell_type": "code",
   "execution_count": 3,
   "metadata": {},
   "outputs": [
    {
     "name": "stdout",
     "output_type": "stream",
     "text": [
      "El factorial de 3 es: 6\n"
     ]
    }
   ],
   "source": [
    "numero = 3\n",
    "resultado = 1\n",
    "\n",
    "for num in range(1, numero + 1):\n",
    "    resultado *= num\n",
    "\n",
    "print(f\"El factorial de {numero} es: {resultado}\")\n",
    "\n"
   ]
  }
 ],
 "metadata": {
  "kernelspec": {
   "display_name": "base",
   "language": "python",
   "name": "python3"
  },
  "language_info": {
   "codemirror_mode": {
    "name": "ipython",
    "version": 3
   },
   "file_extension": ".py",
   "mimetype": "text/x-python",
   "name": "python",
   "nbconvert_exporter": "python",
   "pygments_lexer": "ipython3",
   "version": "3.9.7"
  }
 },
 "nbformat": 4,
 "nbformat_minor": 2
}
