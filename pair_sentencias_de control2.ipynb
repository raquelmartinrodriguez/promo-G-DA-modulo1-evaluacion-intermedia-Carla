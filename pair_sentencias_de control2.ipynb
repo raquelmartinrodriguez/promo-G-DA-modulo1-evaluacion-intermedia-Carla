{
 "cells": [
  {
   "cell_type": "markdown",
   "metadata": {},
   "source": [
    "## Pair programming Sentencias de Control\n",
    "bucles for, list comprehension y try ..except"
   ]
  },
  {
   "cell_type": "markdown",
   "metadata": {},
   "source": [
    "Ejericios bucles for\n"
   ]
  },
  {
   "cell_type": "markdown",
   "metadata": {},
   "source": [
    "1. Imprimir los números del 1 al 5 utilizando un bucle for\n",
    "    - Descripción: Utiliza un bucle for para imprimir los números del 1 al 5 (incluido) en orden ascendente."
   ]
  },
  {
   "cell_type": "code",
   "execution_count": 1,
   "metadata": {},
   "outputs": [
    {
     "name": "stdout",
     "output_type": "stream",
     "text": [
      "1\n",
      "2\n",
      "3\n",
      "4\n",
      "5\n"
     ]
    }
   ],
   "source": [
    "numeros = range (6)\n",
    "\n",
    "for x in range (1,6):\n",
    "    print (x)"
   ]
  },
  {
   "cell_type": "markdown",
   "metadata": {},
   "source": [
    "2. Calcular la suma de los primeros 10 números naturales utilizando un bucle for\n",
    "    - Descripción: Utiliza un bucle for para calcular la suma de los primeros 10 números naturales (1 + 2 + 3 + ... + 10)."
   ]
  },
  {
   "cell_type": "code",
   "execution_count": 2,
   "metadata": {},
   "outputs": [
    {
     "name": "stdout",
     "output_type": "stream",
     "text": [
      "55\n"
     ]
    }
   ],
   "source": [
    "suma_numeros = 0\n",
    "\n",
    "for n in range (1,11):\n",
    "   suma_numeros += n\n",
    "\n",
    "print (suma_numeros)\n",
    "\n",
    " \n"
   ]
  },
  {
   "cell_type": "markdown",
   "metadata": {},
   "source": [
    "3. Calcular el producto de los elementos de una lista.\n",
    "    - Descripción: Dada una lista de números, utiliza un bucle for para calcular el producto de todos los elementos."
   ]
  },
  {
   "cell_type": "code",
   "execution_count": 3,
   "metadata": {},
   "outputs": [
    {
     "name": "stdout",
     "output_type": "stream",
     "text": [
      "120\n"
     ]
    }
   ],
   "source": [
    "producto = 1\n",
    "\n",
    "for p in range (1,6):\n",
    "    producto *= p\n",
    "\n",
    "print (producto)"
   ]
  },
  {
   "cell_type": "markdown",
   "metadata": {},
   "source": [
    "4. Imprimir los caracteres de una cadena de texto\n",
    "    - Descripción: Dada una cadena de texto, utiliza un bucle for para imprimir cada carácter en una línea separada."
   ]
  },
  {
   "cell_type": "code",
   "execution_count": 4,
   "metadata": {},
   "outputs": [
    {
     "name": "stdout",
     "output_type": "stream",
     "text": [
      "e\n",
      "s\n",
      "t\n",
      "a\n",
      " \n",
      "e\n",
      "s\n",
      " \n",
      "u\n",
      "n\n",
      "a\n",
      " \n",
      "c\n",
      "a\n",
      "d\n",
      "e\n",
      "n\n",
      "a\n",
      " \n",
      "c\n",
      "o\n",
      "n\n",
      " \n",
      "s\n",
      "i\n",
      "e\n",
      "t\n",
      "e\n",
      " \n",
      "p\n",
      "a\n",
      "l\n",
      "a\n",
      "b\n",
      "r\n",
      "a\n",
      "s\n"
     ]
    }
   ],
   "source": [
    "cadena = 'esta es una cadena con siete palabras'\n",
    "\n",
    "\n",
    "for letra in cadena:\n",
    "    print (letra)\n",
    "  "
   ]
  },
  {
   "cell_type": "markdown",
   "metadata": {},
   "source": [
    "5. Imprimir los números pares del 1 al 100 utilizando un bucle for.\n",
    "    - Descripción: Utiliza un bucle for para imprimir los números pares del 1 al 100 en orden ascendente."
   ]
  },
  {
   "cell_type": "code",
   "execution_count": 5,
   "metadata": {},
   "outputs": [
    {
     "data": {
      "text/plain": [
       "[2,\n",
       " 4,\n",
       " 6,\n",
       " 8,\n",
       " 10,\n",
       " 12,\n",
       " 14,\n",
       " 16,\n",
       " 18,\n",
       " 20,\n",
       " 22,\n",
       " 24,\n",
       " 26,\n",
       " 28,\n",
       " 30,\n",
       " 32,\n",
       " 34,\n",
       " 36,\n",
       " 38,\n",
       " 40,\n",
       " 42,\n",
       " 44,\n",
       " 46,\n",
       " 48,\n",
       " 50,\n",
       " 52,\n",
       " 54,\n",
       " 56,\n",
       " 58,\n",
       " 60,\n",
       " 62,\n",
       " 64,\n",
       " 66,\n",
       " 68,\n",
       " 70,\n",
       " 72,\n",
       " 74,\n",
       " 76,\n",
       " 78,\n",
       " 80,\n",
       " 82,\n",
       " 84,\n",
       " 86,\n",
       " 88,\n",
       " 90,\n",
       " 92,\n",
       " 94,\n",
       " 96,\n",
       " 98]"
      ]
     },
     "execution_count": 5,
     "metadata": {},
     "output_type": "execute_result"
    }
   ],
   "source": [
    "numeros_pares = []\n",
    "\n",
    "for num in range (1,100):\n",
    "    if num %2 == 0:\n",
    "        numeros_pares.append (num)\n",
    "        \n",
    "numeros_pares"
   ]
  },
  {
   "cell_type": "markdown",
   "metadata": {},
   "source": [
    "6. Imprimir los números primos del 1 al 50 utilizando un bucle for.\n",
    "    - Descripción: Utiliza un bucle for para imprimir los números primos del 1 al 50 en orden ascendente.\n",
    "    - NOTA: Según la Wikipedia, un número primo es un número natural mayor que 1 que no tiene divisores positivos más que 1 y él mismo."
   ]
  },
  {
   "cell_type": "code",
   "execution_count": null,
   "metadata": {},
   "outputs": [],
   "source": [
    "numeros_primos = []\n",
    "\n",
    "\n",
    "for num in range (1,50):\n",
    "    if num > 1:\n",
    "        for i in range(2, int(num**0.5) + 1):\n",
    "            if num % i == 0:\n",
    "                break\n",
    "        else:\n",
    "            numeros_primos.append (num)\n",
    "\n",
    "numeros_primos"
   ]
  },
  {
   "cell_type": "code",
   "execution_count": 7,
   "metadata": {},
   "outputs": [
    {
     "name": "stdout",
     "output_type": "stream",
     "text": [
      "[2, 3, 5, 7, 11, 13, 17, 19, 23, 29, 31, 37, 41, 43, 47]\n"
     ]
    }
   ],
   "source": [
    "#otra forma sería:\n",
    "\n",
    "lista1 = []\n",
    "\n",
    "for e in range (1,51):\n",
    "    if e > 1:\n",
    "        primo = True\n",
    "\n",
    "        for i in range (2,e):\n",
    "            if e % i == 0:\n",
    "                primo = False\n",
    "                break\n",
    "        if primo:\n",
    "            lista1.append (e)\n",
    "\n",
    "print (lista1)    "
   ]
  },
  {
   "cell_type": "markdown",
   "metadata": {},
   "source": [
    "7. Calcular el factorial de un número utilizando un bucle for\n",
    "    - Descripción: Dado un número entero positivo, calcula su factorial utilizando un bucle for."
   ]
  },
  {
   "cell_type": "code",
   "execution_count": 10,
   "metadata": {},
   "outputs": [
    {
     "name": "stdout",
     "output_type": "stream",
     "text": [
      "El factorial de 5 es: 120\n"
     ]
    }
   ],
   "source": [
    "numero = 5\n",
    "resultado = 1\n",
    "\n",
    "for num in range(1, numero + 1):\n",
    "    resultado *= num\n",
    "\n",
    "print(f\"El factorial de {numero} es: {resultado}\")\n",
    "\n"
   ]
  },
  {
   "cell_type": "markdown",
   "metadata": {},
   "source": [
    "8. Juego de adivinar palabras utilizando un bucle for\n",
    "    - Descripción: Crea un juego en el que el jugador debe adivinar una palabra secreta. El jugador tiene un número limitado de intentos y se le proporcionan pistas después de cada intento. Utiliza un bucle for para controlar los intentos del jugador."
   ]
  },
  {
   "cell_type": "code",
   "execution_count": null,
   "metadata": {},
   "outputs": [],
   "source": [
    "# definimos nuestra palabra secreta como un diccionario, para poder mostrar sólo los asteriscos al jugador; también las vidas, y el input para que el jugador introduzca su respuesta\n",
    "palabra_secreta = {\"h\": \"*\", \"a\": \"*\", \"l\": \"*\", \"c\": \"*\", \"o\": \"*\", \"n\": \"*\"}\n",
    "\n",
    "vidas = 5\n",
    "\n",
    "respuesta_usuario = \"\".join(palabra_secreta.values())"
   ]
  },
  {
   "cell_type": "code",
   "execution_count": null,
   "metadata": {},
   "outputs": [],
   "source": [
    "\n",
    "\n",
    "# Se inicia un bucle while que se ejecutará mientras la respuesta no sea igual a \"halcon\" y el jugador tenga al menos 1 vida.\n",
    "while respuesta_usuario != \"a\" and vidas >= 1:\n",
    "    # Se solicita al jugador que introduzca una letra que pueda estar en la palabra y se convierte a minúsculas.\n",
    "    pregunta = input(\"Introduce una letra que pueda estar en la palabra\").lower()\n",
    "\n",
    "    #si la letra está en la palabra:\n",
    "    if pregunta in palabra_secreta:\n",
    "        palabra_secreta[pregunta] = pregunta\n",
    "        respuesta_usuario = \"\".join(palabra_secreta.values())\n",
    "        print(respuesta_usuario)\n",
    "        print(f\"Te quedan {vidas} vidas\")\n",
    "    \n",
    "    else:\n",
    "        # Si la letra no está en la palabra, se resta una vida y se muestra el número de vidas restantes.\n",
    "        print(f\"La letra {pregunta} no se encuentra en la palabra\")\n",
    "        vidas -= 1\n",
    "        print(f\"Te quedan {vidas} vidas\")\n",
    "\n",
    "# se comprueba si el jugador ha perdido o ha ganado\n",
    "if vidas == 0:\n",
    "    print(\"Ya no te quedan más vidas, perdiste\")\n",
    "else:\n",
    "    print(f\"¡Enhorabuena!, la palabra era {respuesta_usuario}, acabaste con {vidas} vidas\")"
   ]
  },
  {
   "cell_type": "markdown",
   "metadata": {},
   "source": [
    "## Ejercicios list comprehension"
   ]
  },
  {
   "cell_type": "markdown",
   "metadata": {},
   "source": [
    "1. Generar una lista de los números pares del 1 al 20.\n",
    "Descripción: Utiliza list comprehension para generar una lista que contenga todos los números pares en el rango del 1 al 20."
   ]
  },
  {
   "cell_type": "code",
   "execution_count": null,
   "metadata": {},
   "outputs": [],
   "source": [
    "#todos estos ejercicios los hemos heecho sin hacer list comprehension, ya que aún no lo hemos explicado en clase"
   ]
  },
  {
   "cell_type": "code",
   "execution_count": 56,
   "metadata": {},
   "outputs": [
    {
     "name": "stdout",
     "output_type": "stream",
     "text": [
      "los números pares del 1 al 20 son [2, 4, 6, 8, 10, 12, 14, 16, 18]\n"
     ]
    }
   ],
   "source": [
    "numeros_pares_1_20 = []\n",
    "\n",
    "if num % 2 == 0:\n",
    "        numeros_pares_1_20.append (num)\n",
    "        \n",
    "print (f'los números pares del 1 al 20 son {numeros_pares_1_20}')"
   ]
  },
  {
   "cell_type": "markdown",
   "metadata": {},
   "source": [
    "2. Obtener una lista de las vocales en una cadena de texto.\n",
    "Descripción: Utiliza list comprehension para crear una lista que contenga todas las vocales presentes en una cadena de texto (sin repetición)."
   ]
  },
  {
   "cell_type": "code",
   "execution_count": 85,
   "metadata": {},
   "outputs": [],
   "source": [
    "vocal = 'AEIOUaeiou'\n",
    "mis_vocales = []\n",
    "\n",
    "cadena = 'me gusta mucho la primavera'\n",
    "\n",
    "for caracter in cadena:\n",
    "        if caracter in vocal and caracter not in mis_vocales:\n",
    "              mis_vocales.append (caracter)\n",
    "else:\n",
    "    pass"
   ]
  },
  {
   "cell_type": "code",
   "execution_count": 86,
   "metadata": {},
   "outputs": [
    {
     "name": "stdout",
     "output_type": "stream",
     "text": [
      "['e', 'u', 'a', 'o', 'i']\n"
     ]
    }
   ],
   "source": [
    "print (mis_vocales)"
   ]
  },
  {
   "cell_type": "markdown",
   "metadata": {},
   "source": [
    "3. Filtrar los números positivos de una lista y calcular su cuadrado.\n",
    "Descripción: Utiliza list comprehension para filtrar los números positivos de una lista y calcular el cuadrado de cada uno."
   ]
  },
  {
   "cell_type": "code",
   "execution_count": 88,
   "metadata": {},
   "outputs": [
    {
     "name": "stdout",
     "output_type": "stream",
     "text": [
      "[1, 49, 25, 64, 196, 4]\n"
     ]
    }
   ],
   "source": [
    "numeros_al_cuadrado= []\n",
    "\n",
    "lista_numeros = [1, -5, 7, -9, 5, 8, 14, 2]\n",
    "\n",
    "for numero in lista_numeros:\n",
    "    if numero > 0:\n",
    "        numeros_al_cuadrado.append (numero**2)\n",
    "\n",
    "else:\n",
    "    pass\n",
    "\n",
    "print (numeros_al_cuadrado)"
   ]
  },
  {
   "cell_type": "markdown",
   "metadata": {},
   "source": [
    "## Ejercicios try ...except"
   ]
  },
  {
   "cell_type": "markdown",
   "metadata": {},
   "source": [
    "1. Realizar una búsqueda en una lista y capturar una excepción en caso de valor no encontrado.\n",
    "Descripción: Solicita al usuario una lista de nombres y un nombre para buscar en la lista. Intenta encontrar el nombre en la lista y utiliza las sentencias try y except para capturar la excepción en caso de que el nombre no sea encontrado."
   ]
  },
  {
   "cell_type": "code",
   "execution_count": 53,
   "metadata": {},
   "outputs": [
    {
     "name": "stdout",
     "output_type": "stream",
     "text": [
      "el nombre ana no está en la lista\n"
     ]
    }
   ],
   "source": [
    "lista_nombres = str (input ('indique varios nombres separados por comas'))\n",
    "nombre = str (input('indique un nombre a comprobar'))\n",
    "\n",
    "try:\n",
    "    indice = lista_nombres.index (nombre)\n",
    "    print (f'el nombre {nombre} está en la lista')\n",
    "\n",
    "except ValueError:\n",
    "    print (f'el nombre {nombre} no está en la lista')\n"
   ]
  }
 ],
 "metadata": {
  "kernelspec": {
   "display_name": "base",
   "language": "python",
   "name": "python3"
  },
  "language_info": {
   "codemirror_mode": {
    "name": "ipython",
    "version": 3
   },
   "file_extension": ".py",
   "mimetype": "text/x-python",
   "name": "python",
   "nbconvert_exporter": "python",
   "pygments_lexer": "ipython3",
   "version": "3.9.0"
  }
 },
 "nbformat": 4,
 "nbformat_minor": 2
}
