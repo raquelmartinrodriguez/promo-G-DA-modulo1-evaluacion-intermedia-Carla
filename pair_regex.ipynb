{
 "cells": [
  {
   "cell_type": "markdown",
   "metadata": {},
   "source": [
    "1. Validar un número de teléfono.\n",
    "Descripción: Verificar si una cadena representa un número de teléfono válido en el formato (XXX) XXX-XXXX.\n",
    "Probad para cada uno de los teléfonos que tenemos en la siguiente lista:\n",
    "telefonos = [\"(123) 456-7890\", \"178 1890-733\", \"(555) 238-1987\", \"(123) 4560-7890\", \"(ABC) 098-1111"
   ]
  },
  {
   "cell_type": "code",
   "execution_count": 1,
   "metadata": {},
   "outputs": [],
   "source": [
    "import re"
   ]
  },
  {
   "cell_type": "code",
   "execution_count": 2,
   "metadata": {},
   "outputs": [
    {
     "name": "stdout",
     "output_type": "stream",
     "text": [
      "(123) 456-7890 es válido\n",
      "178 1890-733 no es válido\n",
      "(555) 238-1987 es válido\n",
      "(123) 4560-7890 no es válido\n",
      "(ABC) 098-1111 no es válido\n"
     ]
    }
   ],
   "source": [
    "telefonos = [\"(123) 456-7890\", \"178 1890-733\", \"(555) 238-1987\", \"(123) 4560-7890\", \"(ABC) 098-1111\"]\n",
    "\n",
    "for codigo in telefonos:\n",
    "    resultado = re.match(r'^\\(\\d{3}\\) \\d{3}-\\d{4}$', codigo)\n",
    "\n",
    "    if resultado:\n",
    "        print(f\"{codigo} es válido\")\n",
    "\n",
    "    else:\n",
    "        print(f\"{codigo} no es válido\") \n",
    "\n",
    "\n"
   ]
  },
  {
   "cell_type": "markdown",
   "metadata": {},
   "source": [
    "2. Buscar todas las direcciones de correo electrónico en un texto.\n",
    "Descripción: Encontrar todas las direcciones de correo electrónico presentes en una cadena de texto.\n",
    "Probad con el siguiente string:\n",
    "texto = \"Mi correo es user@example.com. Contacta conmigo en john.doe@email.com\""
   ]
  },
  {
   "cell_type": "code",
   "execution_count": 3,
   "metadata": {},
   "outputs": [
    {
     "name": "stdout",
     "output_type": "stream",
     "text": [
      "['user@example.com', 'john.doe@email.com']\n"
     ]
    }
   ],
   "source": [
    "texto = \"Mi correo es user@example.com. Contacta conmigo en john.doe@email.com\"\n",
    "\n",
    "email = re.findall(r\"\\b[A-Za-z0-9._%+-]+@[A-Za-z0-9.-]+\\.[A-Z|a-z]{2,}\\b\",texto)\n",
    "\n",
    "print(f\"{email}\")\n",
    "\n",
    "   "
   ]
  },
  {
   "cell_type": "markdown",
   "metadata": {},
   "source": [
    "3. Validar un código postal.\n",
    "Descripción: Verificar si una cadena representa un código postal válido de 5 dígitos.\n",
    "Probad para cada uno de los códigos postales que tenemos en la siguiente lista:\n",
    "codigos_postales = [\"12345\", \"190037\", \"78409\", \"986449\", \"19305\"]"
   ]
  },
  {
   "cell_type": "code",
   "execution_count": 4,
   "metadata": {},
   "outputs": [],
   "source": [
    "codigos_postales = [\"12345\", \"190037\", \"78409\", \"986449\", \"19305\"]\n",
    "\n",
    "patron = \"\\d{5}$\""
   ]
  },
  {
   "cell_type": "code",
   "execution_count": 5,
   "metadata": {},
   "outputs": [
    {
     "data": {
      "text/plain": [
       "['12345', '90037', '78409', '86449', '19305']"
      ]
     },
     "execution_count": 5,
     "metadata": {},
     "output_type": "execute_result"
    }
   ],
   "source": [
    "mis_codigos =[]\n",
    "\n",
    "for codigo in codigos_postales:\n",
    "    obj = re.findall (patron, codigo)\n",
    "\n",
    "    if len (obj) !=0:\n",
    "    \n",
    "        mis_codigos.append (obj[0])\n",
    "    \n",
    "mis_codigos"
   ]
  },
  {
   "cell_type": "markdown",
   "metadata": {},
   "source": [
    "4. Encontrar todas las palabras que comienzan con una vocal en un texto.\n",
    "\n",
    "    - Descripción: Encontrar todas las palabras en un texto que comienzan con una vocal (a, e, i, o, u).\n",
    "    - Probad con el siguiente string:\n",
    "    texto = \"El perro está ladrando. Ana tiene una manzana. La casa es grande.\""
   ]
  },
  {
   "cell_type": "code",
   "execution_count": 6,
   "metadata": {},
   "outputs": [
    {
     "name": "stdout",
     "output_type": "stream",
     "text": [
      "El perro está ladrando. Ana tiene una manzana. La casa es grande.\n",
      "las palabras que empiezan por vocal en la cadena de texto son : ['El', 'está', 'Ana', 'una', 'es']\n"
     ]
    }
   ],
   "source": [
    "import re\n",
    "\n",
    "texto = \"El perro está ladrando. Ana tiene una manzana. La casa es grande.\"\n",
    "\n",
    "print (texto)\n",
    "\n",
    "patron_vocales = '\\b[aeiouAEIOU]\\w*\\b'\n",
    "\n",
    "# buscamos palabras que comienzan con una vocal\n",
    "palabras_con_vocal = re.findall(r'\\b[aeiouAEIOU]\\w*\\b', texto)\n",
    "\n",
    "# Imprimir las palabras encontradas\n",
    "print(f'las palabras que empiezan por vocal en la cadena de texto son : {palabras_con_vocal}')"
   ]
  },
  {
   "cell_type": "markdown",
   "metadata": {},
   "source": [
    "5. Extraer todos los hashtags de un texto.\n",
    "    - Descripción: Extraer todos los hashtags (#) presentes en una cadena de texto.\n",
    "    - Probad con el siguiente string:\n",
    "    texto = \"Me encanta el #deporte. #FelizViernes a todos. Estoy en la conferencia #Tech2022.\""
   ]
  },
  {
   "cell_type": "code",
   "execution_count": 7,
   "metadata": {},
   "outputs": [
    {
     "name": "stdout",
     "output_type": "stream",
     "text": [
      "Me encanta el #deporte. #FelizViernes a todos. Estoy en la conferencia #Tech2022.\n",
      "las palabras que empienzan por # son ['#deporte', '#FelizViernes', '#Tech2022']\n"
     ]
    }
   ],
   "source": [
    "import re\n",
    "\n",
    "texto2 = \"Me encanta el #deporte. #FelizViernes a todos. Estoy en la conferencia #Tech2022.\"\n",
    "\n",
    "patron_hagstags = '\\#\\w+'\n",
    "\n",
    "print (texto2)\n",
    "#encontramos palabras que comiencen con #\n",
    "palabras_con_hagshtags = re.findall (r'\\#\\w+', texto2)\n",
    "\n",
    "#imprimimos las palabras encontradas\n",
    "print (f'las palabras que empienzan por # son {palabras_con_hagshtags}')\n",
    "\n",
    "\n"
   ]
  },
  {
   "cell_type": "markdown",
   "metadata": {},
   "source": [
    "6. Buscar todos los números decimales en una cadena de texto.\n",
    "    - Descripción: Encontrar todos los números decimales presentes en una cadena de texto.\n",
    "    - Probad con el siguiente string:\n",
    "    texto = \"El precio es $19.99. La temperatura es 25.5°C. El índice de inflación es del 2.5%.\"     "
   ]
  },
  {
   "cell_type": "code",
   "execution_count": 8,
   "metadata": {},
   "outputs": [
    {
     "name": "stdout",
     "output_type": "stream",
     "text": [
      "El precio es $19.99. La temperatura es 25.5°C. El índice de inflación es del 2.5%.\n",
      "los números con decimales son ['19.99', '25.5', '2.5']\n"
     ]
    }
   ],
   "source": [
    "texto3 = \"El precio es $19.99. La temperatura es 25.5°C. El índice de inflación es del 2.5%.\" \n",
    "\n",
    "patron_decimales = '\\b\\d+\\.\\d+\\b'\n",
    "\n",
    "print (texto3)\n",
    "\n",
    "numeros_con_decimales = re.findall (r'\\b\\d+\\.\\d+\\b', texto3)\n",
    "\n",
    "print (f'los números con decimales son {numeros_con_decimales}')\n"
   ]
  },
  {
   "cell_type": "markdown",
   "metadata": {},
   "source": [
    "7. Validar un nombre de usuario.\n",
    "    - Descripción: Verificar si una cadena representa un nombre de usuario válido, que contiene solo letras minúsculas, números y guiones bajos (_).\n",
    "    - Probad con la siguiente lista de usuarios:\n",
    "    lista_usuarios = [\"juan_doe123\", \"lola_12\", \"Aurora_23\", \"12marta_lopez\"]"
   ]
  },
  {
   "cell_type": "code",
   "execution_count": 9,
   "metadata": {},
   "outputs": [
    {
     "name": "stdout",
     "output_type": "stream",
     "text": [
      "['juan_doe123', 'lola_12', 'Aurora_23', '12marta_lopez']\n",
      "El usuario \"juan_doe123\" es válido: True\n",
      "El usuario \"lola_12\" es válido: True\n",
      "El usuario \"Aurora_23\" es válido: False\n",
      "El usuario \"12marta_lopez\" es válido: True\n"
     ]
    }
   ],
   "source": [
    "lista_usuarios = [\"juan_doe123\", \"lola_12\", \"Aurora_23\", \"12marta_lopez\"]\n",
    "\n",
    "print (lista_usuarios)\n",
    "\n",
    "# patrón para validar el nombre de usuario\n",
    "patron = (r'^[a-z0-9_]+$')\n",
    "\n",
    "# Validar cada usuario en la lista\n",
    "for usuario in lista_usuarios:\n",
    "    usuario_valido = bool(re.match(patron, usuario))\n",
    "    print(f'El usuario \"{usuario}\" es válido: {usuario_valido}')"
   ]
  },
  {
   "cell_type": "markdown",
   "metadata": {},
   "source": [
    "8. Encontrar todas las fechas en formato \"dd/mm/aaaa\" en un texto.\n",
    "    - Descripción: Encontrar todas las fechas válidas en formato \"dd/mm/aaaa\" presentes en una cadena de texto.\n",
    "    - Probad con el siguiente string:\n",
    "    texto = \"La fecha límite es el 31/12/2022. Hoy es 01/01/2023. Cumpleaños: 15/05/1990.\""
   ]
  },
  {
   "cell_type": "code",
   "execution_count": 14,
   "metadata": {},
   "outputs": [
    {
     "name": "stdout",
     "output_type": "stream",
     "text": [
      "La fecha límite es el 31/12/2022. Hoy es 01/01/2023. Cumpleaños: 15/05/1990.\n",
      "las fechas válidas son ['31/12/2022', '01/01/2023', '15/05/1990']\n"
     ]
    }
   ],
   "source": [
    "texto_fechas = \"La fecha límite es el 31/12/2022. Hoy es 01/01/2023. Cumpleaños: 15/05/1990.\"\n",
    "\n",
    "print (texto_fechas)\n",
    "\n",
    "patron_fechas = '\\b(?:0[1-9]|[12][0-9]|3[01])/(?:0[1-9]|1[0-2])/\\d{4}\\b'\n",
    "\n",
    "fechas_validas = re.findall (r'\\b(?:0[1-9]|[12][0-9]|3[01])/(?:0[1-9]|1[0-2])/\\d{4}\\b', texto_fechas)\n",
    "\n",
    "print (f'las fechas válidas son {fechas_validas}')"
   ]
  },
  {
   "cell_type": "markdown",
   "metadata": {},
   "source": [
    "9. Remover caracteres especiales.\n",
    "    - Descripción: Dada una cadena de texto, remover cualquier carácter especial, como signos de puntuación y símbolos.\n",
    "    - Probad con el siguiente string:\n",
    "    texto = '¡Hola, cómo estás? ¿Todo bien?'"
   ]
  },
  {
   "cell_type": "code",
   "execution_count": 16,
   "metadata": {},
   "outputs": [
    {
     "name": "stdout",
     "output_type": "stream",
     "text": [
      "¡Hola, cómo estás? ¿Todo bien?\n",
      "los caracteres especiales son ['¡', ',', '?', '¿', '?']\n"
     ]
    }
   ],
   "source": [
    "texto_especiales = '¡Hola, cómo estás? ¿Todo bien?'\n",
    "\n",
    "patron_especiales = '[^\\w\\s]'\n",
    "\n",
    "print (texto_especiales)\n",
    "\n",
    "caracteres_especiales = re.findall (patron_especiales, texto_especiales)\n",
    "\n",
    "print (f'los caracteres especiales son {caracteres_especiales}')"
   ]
  }
 ],
 "metadata": {
  "kernelspec": {
   "display_name": "base",
   "language": "python",
   "name": "python3"
  },
  "language_info": {
   "codemirror_mode": {
    "name": "ipython",
    "version": 3
   },
   "file_extension": ".py",
   "mimetype": "text/x-python",
   "name": "python",
   "nbconvert_exporter": "python",
   "pygments_lexer": "ipython3",
   "version": "3.9.7"
  }
 },
 "nbformat": 4,
 "nbformat_minor": 2
}
