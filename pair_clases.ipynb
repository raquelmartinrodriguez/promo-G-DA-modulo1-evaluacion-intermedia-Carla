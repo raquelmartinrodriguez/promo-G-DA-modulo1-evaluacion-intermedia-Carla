{
 "cells": [
  {
   "cell_type": "markdown",
   "metadata": {},
   "source": [
    "1. En este ejercicio de pair programming, vamos a crear una clase para gestionar la información de los empleados de nuestra empresa. Siguiendo las indicaciones del jefe, necesitamos organizar los datos de cada empleado de manera más estructurada.\n",
    "La clase Empleados permite gestionar información relacionada con los empleados de una empresa, con las siguientes características:\n",
    "    -   Debes crear una clase llamada \"Empleados\" que tenga los siguientes atributos: nombre, apellidos, edad, posicion, año , vacaciones(cantidad de días de vacaciones que le quedan al empleado) y herramientas.\n",
    "    -   El constructor __init__ debe recibir estos atributos como parámetros y asignarlos a los respectivos atributos de la clase.\n",
    "    -   Los atributos representan la información personal y profesional de un empleado, como su nombre completo, edad, posición en la empresa, año de ingreso, días de vacaciones disponibles y una lista de herramientas que el empleado sabe utilizar.\n",
    "Los métodos que debe recibir esta clase son:\n",
    "    1. Método descripcion: Proporciona una descripción del empleado, incluyendo su nombre, posición en la empresa, y la cantidad de días de vacaciones que le quedan para el año actual. Los pasos para resolver el ejercicio del método descripcion son:\n",
    "    - Utilizar F-Strings: Utiliza f-strings para construir la descripción del empleado de manera legible y eficiente.\n",
    "    - Especificar los Atributos a Incluir: Determina cuáles de los atributos del empleado se deben incluir en la descripción. Los atributos necesarios son nombre, posicion, año, y vacaciones.\n",
    "    - Concatenar los Atributos: Usar f-strings para concatenar los atributos seleccionados y crear una descripción coherente.\n",
    "\n",
    "    2. Método cambiando_posicion: Verifica las herramientas que el empleado tiene en su lista y devuelve un mensaje específico basado en las herramientas. Puede elogiar al empleado si tiene \"Python\" en su lista o sugerirle que deje de usar \"Excel\" y aprenda Python. Los pasos para resolver este ejercicio son:\n",
    "    - Iterar a través de las Herramientas: La función debe recorrer la lista de herramientas (self.herramientas) del empleado.\n",
    "    - Evaluar Cada Herramienta: Para cada herramienta en la lista, verifica si es igual a \"Python\" o \"Excel\" (en minúsculas).\n",
    "    3. Método calcular_antiguedad: Calcula la antigüedad del empleado en años y meses desde el año de ingreso hasta la fecha actual.\n",
    "    - Calcular la Antigüedad en Años y Meses: Utiliza el módulo datetime de Python para obtener el año actual y el mes actual.\n",
    "    - Generar el Mensaje de Antigüedad: Usa los valores calculados para años y meses de antigüedad para generar un mensaje descriptivo. Por ejemplo, \"Juan lleva 5 años y 3 meses en la empresa\"."
   ]
  },
  {
   "cell_type": "code",
   "execution_count": 11,
   "metadata": {},
   "outputs": [],
   "source": [
    "from datetime import datetime"
   ]
  },
  {
   "cell_type": "code",
   "execution_count": 26,
   "metadata": {},
   "outputs": [],
   "source": [
    "class Empleados:\n",
    "    def __init__ (self, nombre, apellidos, edad, posicion, año, vacaciones, herramientas):\n",
    "        self.nombre = nombre\n",
    "        self.apellido = apellidos\n",
    "        self.edad = edad\n",
    "        self.posicion = posicion\n",
    "        self.año = año\n",
    "        self.vacaciones = vacaciones\n",
    "        self.herramientas = herramientas\n",
    "    \n",
    "    def descripcion (self):\n",
    "        return f' El nombre y apellidos del empleado es: {self.nombre} {self.apellido}, su posición en la empresa es {self.posicion}, su año de incorporación en la empresa es {self.año}, y las vacaciones por disfrutar son {self.vacaciones}'\n",
    "\n",
    "    def cambiando_posicion (self):\n",
    "  \n",
    "        for h in self.herramientas:\n",
    "            if 'python' in self.herramientas: \n",
    "                return 'Enhorabuena, estás usando pyton'\n",
    "            elif 'excel' in self.herramientas:\n",
    "                return 'Le sugerimos que deje de usar excel y aprenda python'\n",
    "            else:\n",
    "                return 'por favor, aprenda python'\n",
    "            \n",
    " \n",
    "    def calcular_antiguedad (fecha_ingreso):\n",
    "        # Obtener la fecha actual\n",
    "        fecha_actual = datetime.now()\n",
    "\n",
    "        # Convertir la fecha de ingreso a un objeto datetime\n",
    "        fecha_ingreso = datetime.strptime(fecha_ingreso, \"%Y-%m-%d\")\n",
    "\n",
    "        # Calcular la antigüedad en años y meses\n",
    "        antiguedad = fecha_actual - fecha_ingreso\n",
    "\n",
    "        # Obtener los años y meses de antigüedad\n",
    "        años_antiguedad = antiguedad.days// 365\n",
    "        meses_antiguedad = (antiguedad.days % 365) // 30  # Asumiendo que un mes tiene 30 días\n",
    "\n",
    "        return años_antiguedad, meses_antiguedad\n",
    "        "
   ]
  },
  {
   "cell_type": "code",
   "execution_count": 22,
   "metadata": {},
   "outputs": [],
   "source": [
    "#probamos el primer método: descripción\n",
    "\n",
    "empleado1 = Empleados ('Pepe', 'López', 35, 'Director', 2005, 22, ['móvil', 'excel', 'word', 'project'])\n",
    "empleado2 = Empleados ('Luisa', 'Martínez', 37, 'Subdirectora', 2015, 15, ['móvil', 'python', 'sql'])"
   ]
  },
  {
   "cell_type": "code",
   "execution_count": 15,
   "metadata": {},
   "outputs": [
    {
     "data": {
      "text/plain": [
       "' El nombre y apellidos del empleado es: Pepe López, su posición en la empresa es Director, su año de incorporación en la empresa es 2005, y las vacaciones por disfrutar son 22'"
      ]
     },
     "execution_count": 15,
     "metadata": {},
     "output_type": "execute_result"
    }
   ],
   "source": [
    "empleado1.descripcion()"
   ]
  },
  {
   "cell_type": "code",
   "execution_count": 23,
   "metadata": {},
   "outputs": [
    {
     "data": {
      "text/plain": [
       "'Enhorabuena, estás usando pyton'"
      ]
     },
     "execution_count": 23,
     "metadata": {},
     "output_type": "execute_result"
    }
   ],
   "source": [
    "#probamos el segundo método: cambiando_posicion\n",
    "\n",
    "empleado2. cambiando_posicion ()"
   ]
  },
  {
   "cell_type": "code",
   "execution_count": 29,
   "metadata": {},
   "outputs": [
    {
     "ename": "NameError",
     "evalue": "name 'calcular_antiguedad' is not defined",
     "output_type": "error",
     "traceback": [
      "\u001b[0;31m---------------------------------------------------------------------------\u001b[0m",
      "\u001b[0;31mNameError\u001b[0m                                 Traceback (most recent call last)",
      "\u001b[0;32m/tmp/ipykernel_23937/319690431.py\u001b[0m in \u001b[0;36m<module>\u001b[0;34m\u001b[0m\n\u001b[1;32m      3\u001b[0m \u001b[0mfecha_ingreso\u001b[0m \u001b[0;34m=\u001b[0m \u001b[0minput\u001b[0m\u001b[0;34m(\u001b[0m\u001b[0;34m\"Ingrese la fecha de ingreso del empleado (formato YYYY-MM-DD): \"\u001b[0m\u001b[0;34m)\u001b[0m\u001b[0;34m\u001b[0m\u001b[0;34m\u001b[0m\u001b[0m\n\u001b[1;32m      4\u001b[0m \u001b[0;34m\u001b[0m\u001b[0m\n\u001b[0;32m----> 5\u001b[0;31m \u001b[0mcalcular_antiguedad\u001b[0m \u001b[0;34m(\u001b[0m\u001b[0mfecha_ingreso\u001b[0m\u001b[0;34m)\u001b[0m\u001b[0;34m\u001b[0m\u001b[0;34m\u001b[0m\u001b[0m\n\u001b[0m\u001b[1;32m      6\u001b[0m \u001b[0;34m\u001b[0m\u001b[0m\n\u001b[1;32m      7\u001b[0m \u001b[0mprint\u001b[0m\u001b[0;34m(\u001b[0m\u001b[0;34mf\"La antigüedad del empleado es de {años} años y {dias} días.\"\u001b[0m\u001b[0;34m)\u001b[0m\u001b[0;34m\u001b[0m\u001b[0;34m\u001b[0m\u001b[0m\n",
      "\u001b[0;31mNameError\u001b[0m: name 'calcular_antiguedad' is not defined"
     ]
    }
   ],
   "source": [
    "\n",
    "# probamos el tercer método: calcular antigüedad\n",
    "\n",
    "fecha_ingreso = input(\"Ingrese la fecha de ingreso del empleado (formato YYYY-MM-DD): \")\n",
    "\n",
    "calcular_antiguedad (fecha_ingreso)\n",
    "\n",
    "print(f\"La antigüedad del empleado es de {años} años y {dias} días.\")\n"
   ]
  }
 ],
 "metadata": {
  "kernelspec": {
   "display_name": "base",
   "language": "python",
   "name": "python3"
  },
  "language_info": {
   "codemirror_mode": {
    "name": "ipython",
    "version": 3
   },
   "file_extension": ".py",
   "mimetype": "text/x-python",
   "name": "python",
   "nbconvert_exporter": "python",
   "pygments_lexer": "ipython3",
   "version": "3.9.7"
  }
 },
 "nbformat": 4,
 "nbformat_minor": 2
}
