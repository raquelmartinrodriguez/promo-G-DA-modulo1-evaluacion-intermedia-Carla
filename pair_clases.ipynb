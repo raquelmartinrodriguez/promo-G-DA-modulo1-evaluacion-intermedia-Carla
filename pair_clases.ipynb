{
 "cells": [
  {
   "cell_type": "markdown",
   "metadata": {},
   "source": [
    "1. En este ejercicio de pair programming, vamos a crear una clase para gestionar la información de los empleados de nuestra empresa. Siguiendo las indicaciones del jefe, necesitamos organizar los datos de cada empleado de manera más estructurada.\n",
    "La clase Empleados permite gestionar información relacionada con los empleados de una empresa, con las siguientes características:\n",
    "    -   Debes crear una clase llamada \"Empleados\" que tenga los siguientes atributos: nombre, apellidos, edad, posicion, año , vacaciones(cantidad de días de vacaciones que le quedan al empleado) y herramientas.\n",
    "    -   El constructor __init__ debe recibir estos atributos como parámetros y asignarlos a los respectivos atributos de la clase.\n",
    "    -   Los atributos representan la información personal y profesional de un empleado, como su nombre completo, edad, posición en la empresa, año de ingreso, días de vacaciones disponibles y una lista de herramientas que el empleado sabe utilizar.\n",
    "Los métodos que debe recibir esta clase son:\n",
    "    1. Método descripcion: Proporciona una descripción del empleado, incluyendo su nombre, posición en la empresa, y la cantidad de días de vacaciones que le quedan para el año actual. Los pasos para resolver el ejercicio del método descripcion son:\n",
    "    - Utilizar F-Strings: Utiliza f-strings para construir la descripción del empleado de manera legible y eficiente.\n",
    "    - Especificar los Atributos a Incluir: Determina cuáles de los atributos del empleado se deben incluir en la descripción. Los atributos necesarios son nombre, posicion, año, y vacaciones.\n",
    "    - Concatenar los Atributos: Usar f-strings para concatenar los atributos seleccionados y crear una descripción coherente.\n",
    "\n",
    "    2. Método cambiando_posicion: Verifica las herramientas que el empleado tiene en su lista y devuelve un mensaje específico basado en las herramientas. Puede elogiar al empleado si tiene \"Python\" en su lista o sugerirle que deje de usar \"Excel\" y aprenda Python. Los pasos para resolver este ejercicio son:\n",
    "    - Iterar a través de las Herramientas: La función debe recorrer la lista de herramientas (self.herramientas) del empleado.\n",
    "    - Evaluar Cada Herramienta: Para cada herramienta en la lista, verifica si es igual a \"Python\" o \"Excel\" (en minúsculas).\n",
    "    "
   ]
  },
  {
   "cell_type": "code",
   "execution_count": 6,
   "metadata": {},
   "outputs": [],
   "source": [
    "class Empleados:\n",
    "    def __init__ (self, nombre, apellidos, edad, posicion, año, vacaciones, herramientas):\n",
    "        self.nombre = nombre\n",
    "        self.apellido = apellidos\n",
    "        self.edad = edad\n",
    "        self.posicion = posicion\n",
    "        self.año = año\n",
    "        self.vacaciones = vacaciones\n",
    "        self.herramientas = herramientas\n",
    "    \n",
    "    def descripcion (self):\n",
    "        return f' El nombre y apellidos del empleado es: {self.nombre} {self.apellido}, su posición en la empresa es {self.posicion}, su año de incorporación en la empresa es {self.año}, y las vacaciones por disfrutar son {self.vacaciones}'\n",
    "\n",
    "    def cambiando_posicion (self):\n",
    "  \n",
    "        for h in self.herramientas:\n",
    "            if 'python' in self.herramientas: \n",
    "                return 'Enhorabuena, estás usando pyton'\n",
    "            elif 'excel' in self.herramientas:\n",
    "                return 'Le sugerimos que deje de usar excel y aprenda python'\n",
    "            else:\n",
    "                return 'por favor, aprenda python'\n",
    "            \n",
    "\n",
    "        "
   ]
  },
  {
   "cell_type": "code",
   "execution_count": 7,
   "metadata": {},
   "outputs": [],
   "source": [
    "#probamos el primer método: descripción\n",
    "\n",
    "empleado1 = Empleados ('Pepe', 'López', 35, 'Director', 2005, 22, ['móvil', 'excel', 'word', 'project'])\n",
    "empleado2 = Empleados ('Luisa', 'Martínez', 37, 'Subdirectora', 2015, 15, ['móvil', 'python', 'sql'])"
   ]
  },
  {
   "cell_type": "code",
   "execution_count": 8,
   "metadata": {},
   "outputs": [
    {
     "data": {
      "text/plain": [
       "' El nombre y apellidos del empleado es: Pepe López, su posición en la empresa es Director, su año de incorporación en la empresa es 2005, y las vacaciones por disfrutar son 22'"
      ]
     },
     "execution_count": 8,
     "metadata": {},
     "output_type": "execute_result"
    }
   ],
   "source": [
    "empleado1.descripcion()"
   ]
  },
  {
   "cell_type": "code",
   "execution_count": 9,
   "metadata": {},
   "outputs": [
    {
     "data": {
      "text/plain": [
       "'Enhorabuena, estás usando pyton'"
      ]
     },
     "execution_count": 9,
     "metadata": {},
     "output_type": "execute_result"
    }
   ],
   "source": [
    "#probamos el segundo método: cambiando_posicion\n",
    "\n",
    "empleado2. cambiando_posicion ()"
   ]
  }
 ],
 "metadata": {
  "kernelspec": {
   "display_name": "base",
   "language": "python",
   "name": "python3"
  },
  "language_info": {
   "codemirror_mode": {
    "name": "ipython",
    "version": 3
   },
   "file_extension": ".py",
   "mimetype": "text/x-python",
   "name": "python",
   "nbconvert_exporter": "python",
   "pygments_lexer": "ipython3",
   "version": "3.9.7"
  }
 },
 "nbformat": 4,
 "nbformat_minor": 2
}
