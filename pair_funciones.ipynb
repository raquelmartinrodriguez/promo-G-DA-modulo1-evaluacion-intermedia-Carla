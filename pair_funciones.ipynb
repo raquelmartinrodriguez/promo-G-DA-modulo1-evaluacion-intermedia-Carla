{
 "cells": [
  {
   "cell_type": "markdown",
   "metadata": {},
   "source": [
    "Pair programming Funciones"
   ]
  },
  {
   "cell_type": "markdown",
   "metadata": {},
   "source": [
    "1.Calcular el área de un círculo.\n",
    "Descripción: Crea una función llamada calcular_area_circulo que tome el radio como parámetro y devuelva el área del círculo."
   ]
  },
  {
   "cell_type": "code",
   "execution_count": 3,
   "metadata": {},
   "outputs": [
    {
     "name": "stdout",
     "output_type": "stream",
     "text": [
      "50.2656\n"
     ]
    }
   ],
   "source": [
    "r = 4\n",
    "area = 3.1416 * (r ** 2)\n",
    "print(area)"
   ]
  },
  {
   "cell_type": "code",
   "execution_count": 4,
   "metadata": {},
   "outputs": [],
   "source": [
    "def calcular_area_circulo (r):\n",
    "\n",
    "    area = 3.1416 * (r ** 2)\n",
    "\n",
    "    return area"
   ]
  },
  {
   "cell_type": "code",
   "execution_count": 5,
   "metadata": {},
   "outputs": [
    {
     "data": {
      "text/plain": [
       "113.0976"
      ]
     },
     "execution_count": 5,
     "metadata": {},
     "output_type": "execute_result"
    }
   ],
   "source": [
    "calcular_area_circulo (6)\n"
   ]
  },
  {
   "cell_type": "markdown",
   "metadata": {},
   "source": [
    "2. Contar la cantidad de caracteres en una cadena.\n",
    "Descripción: Crea una función llamada contar_caracteres que tome una cadena como parámetro y devuelva la cantidad de caracteres que contiene."
   ]
  },
  {
   "cell_type": "code",
   "execution_count": 13,
   "metadata": {},
   "outputs": [],
   "source": [
    "def contar_caracteres (cadena):\n",
    "    #con el método replace eliminamos los espacios de la cadena\n",
    "    cadena_sin_espacios = cadena.replace (' ','')\n",
    "    #contamos las letras de la cadena sin espacios:\n",
    "    longitud_cadena = len (cadena_sin_espacios)\n",
    "\n",
    "    return longitud_cadena\n"
   ]
  },
  {
   "cell_type": "code",
   "execution_count": 14,
   "metadata": {},
   "outputs": [
    {
     "data": {
      "text/plain": [
       "20"
      ]
     },
     "execution_count": 14,
     "metadata": {},
     "output_type": "execute_result"
    }
   ],
   "source": [
    "cadena_texto = 'python es muy divertido'\n",
    "\n",
    "contar_caracteres (cadena_texto)"
   ]
  },
  {
   "cell_type": "markdown",
   "metadata": {},
   "source": [
    "3.Determinar si una cadena es un palíndromo.\n",
    "Descripción: Crea una función llamada es_palindromo que tome una cadena como parámetro y devuelva True si es un palíndromo, o False si no lo es."
   ]
  },
  {
   "cell_type": "code",
   "execution_count": 40,
   "metadata": {},
   "outputs": [],
   "source": [
    "cadena = 'dabale arroz a la zorra el abad'\n",
    "#convertimos la cadena a misnúscula y quitamos los espacios\n",
    "cadena = cadena.lower().replace(' ','')\n"
   ]
  },
  {
   "cell_type": "code",
   "execution_count": 47,
   "metadata": {},
   "outputs": [],
   "source": [
    "\n",
    "def es_palindromo (cadena):\n",
    "\n",
    "    cadena = cadena.lower().replace(' ','')\n",
    "#comparamos la cadena con su inversa\n",
    "    return cadena == cadena  [::-1]\n",
    "    "
   ]
  },
  {
   "cell_type": "code",
   "execution_count": 49,
   "metadata": {},
   "outputs": [
    {
     "name": "stdout",
     "output_type": "stream",
     "text": [
      "la cadena dabale arroz a la zorra el abad es un palindromo\n"
     ]
    }
   ],
   "source": [
    "nueva_cadena = 'dabale arroz a la zorra el abad'\n",
    "\n",
    "#llamamos a la función para comprobar si la cadena es un palíndromo\n",
    "resultado = es_palindromo (nueva_cadena)\n",
    "\n",
    "#imprimimos el resultado\n",
    "if resultado:\n",
    "    print (f'la cadena {nueva_cadena} es un palindromo')\n",
    "else:\n",
    "    print (f'la cadena {nueva_cadena} no es un palindromo')\n"
   ]
  },
  {
   "cell_type": "markdown",
   "metadata": {},
   "source": [
    "4. Calcular el promedio de una lista de números.\n",
    "    - Descripción: Crea una función llamada calcular_promedio que tome una lista de números como parámetro y devuelva el promedio de todos sus elementos."
   ]
  },
  {
   "cell_type": "code",
   "execution_count": 56,
   "metadata": {},
   "outputs": [
    {
     "data": {
      "text/plain": [
       "21.666666666666668"
      ]
     },
     "execution_count": 56,
     "metadata": {},
     "output_type": "execute_result"
    }
   ],
   "source": [
    "#podemos sacar el promedio de una lista de la siguiente manera\n",
    "\n",
    "lista_numeros = [8, 15, 7, 23, 55, 22]\n",
    "\n",
    "promedio = (sum (lista_numeros)/ len (lista_numeros))\n",
    "\n",
    "promedio\n"
   ]
  },
  {
   "cell_type": "code",
   "execution_count": 58,
   "metadata": {},
   "outputs": [],
   "source": [
    "#ahora creamos la función \n",
    "\n",
    "def calcular_promedio (lista_numeros):\n",
    "    \n",
    "    promedio = (sum (lista_numeros)/ len (lista_numeros))\n",
    "\n",
    "    return promedio"
   ]
  },
  {
   "cell_type": "code",
   "execution_count": 59,
   "metadata": {},
   "outputs": [
    {
     "data": {
      "text/plain": [
       "3.75"
      ]
     },
     "execution_count": 59,
     "metadata": {},
     "output_type": "execute_result"
    }
   ],
   "source": [
    "#probamos que funcione\n",
    "\n",
    "lista2_numeros = [2,3,4,6]\n",
    "\n",
    "calcular_promedio (lista2_numeros)\n"
   ]
  },
  {
   "cell_type": "markdown",
   "metadata": {},
   "source": [
    "5. Calcular el interés compuesto.\n",
    "    - Descripción: Crea una función llamada calcular_interes_compuesto que tome el capital inicial, la tasa de interés y el número de períodos como parámetros y devuelva el beneficio final después del interés compuesto."
   ]
  },
  {
   "cell_type": "code",
   "execution_count": 68,
   "metadata": {},
   "outputs": [],
   "source": [
    "def calcular_interes_compuesto(capital_inicial, tasa_interes, periodos):\n",
    "    \n",
    "    tasa_interes_decimal = tasa_interes / 100.0\n",
    "    \n",
    "    beneficio_final = capital_inicial * (1 + tasa_interes_decimal) ** periodos\n",
    "    \n",
    "    return beneficio_final\n"
   ]
  },
  {
   "cell_type": "code",
   "execution_count": 74,
   "metadata": {},
   "outputs": [
    {
     "name": "stdout",
     "output_type": "stream",
     "text": [
      "el beneficio final después de 12 es de 126.82417945625456\n"
     ]
    }
   ],
   "source": [
    "#probamos la función\n",
    "\n",
    "capital_inicial = 100\n",
    "tasa_interes = 2.0\n",
    "numero_periodos = 12\n",
    "\n",
    "beneficio_final = calcular_interes_compuesto(capital_inicial, tasa_interes, numero_periodos)\n",
    "\n",
    "print (f'el beneficio final después de {numero_periodos} es de {beneficio_final}')\n"
   ]
  },
  {
   "cell_type": "markdown",
   "metadata": {},
   "source": [
    "6. Validar si una palabra es un anagrama de otra.\n",
    "    - Descripción: Crea una función llamada es_anagrama que tome dos palabras como parámetros y devuelva True si una es un anagrama de la otra, o False si no lo es."
   ]
  },
  {
   "cell_type": "code",
   "execution_count": 92,
   "metadata": {},
   "outputs": [],
   "source": [
    "def es_anagrama(palabra1, palabra2):\n",
    "    # Eliminar espacios y convertir a minúsculas para comparar\n",
    "    palabra1 = palabra1.replace(\" \", \"\").lower()\n",
    "    palabra2 = palabra2.replace(\" \", \"\").lower()\n",
    "\n",
    "    # Verificar si las longitudes son iguales\n",
    "    if len(palabra1) != len(palabra2):\n",
    "        return False\n",
    "\n",
    "    # Verificar si las letras tienen la misma frecuencia\n",
    "    return sorted(palabra1) == sorted(palabra2)"
   ]
  },
  {
   "cell_type": "code",
   "execution_count": 93,
   "metadata": {},
   "outputs": [
    {
     "name": "stdout",
     "output_type": "stream",
     "text": [
      "\"amor\" y \"roma\" son anagramas.\n"
     ]
    }
   ],
   "source": [
    "# Ejemplo de uso\n",
    "palabra_1 = \"amor\"\n",
    "palabra_2 = \"roma\"\n",
    "\n",
    "if es_anagrama(palabra_1, palabra_2):\n",
    "    print(f'\"{palabra_1}\" y \"{palabra_2}\" son anagramas.')\n",
    "else:\n",
    "    print(f'\"{palabra_1}\" y \"{palabra_2}\" no son anagramas.')"
   ]
  },
  {
   "cell_type": "markdown",
   "metadata": {},
   "source": [
    "7. Validar si una cadena de texto es un isograma.\n",
    "    - Descripción: Crea una función llamada es_isograma que tome una cadena de texto como parámetro y devuelva True si es un isograma. En caso contrario, devuelve False.\n",
    "    - ¿Qué es un isograma? Una palabra que no contiene letras repetidas. Por ejemplo: murciélago"
   ]
  },
  {
   "cell_type": "code",
   "execution_count": 111,
   "metadata": {},
   "outputs": [],
   "source": [
    "def es_isograma(cadena):\n",
    "    # Eliminamos los espacios y convertimos a minúsculas para comparar\n",
    "    cadena = cadena.replace(\" \", \"\").lower()\n",
    "\n",
    "    # Verificar si la cadena tiene letras repetidas\n",
    "    letras = set()\n",
    "\n",
    "    # Se verifica si una letra ya ha sido vista. Si es así, la función devuelve False; de lo contrario, se añade la letra al conjunto.\n",
    "    for letra in cadena:\n",
    "        if letra in letras:\n",
    "            return False\n",
    "        letras.add(letra)\n",
    "\n",
    "    return True"
   ]
  },
  {
   "cell_type": "code",
   "execution_count": 112,
   "metadata": {},
   "outputs": [
    {
     "name": "stdout",
     "output_type": "stream",
     "text": [
      "La cadena \"murcielago\" es un isograma.\n"
     ]
    }
   ],
   "source": [
    "# probamos que funcione\n",
    "cadena_ejemplo = \"murcielago\"\n",
    "\n",
    "if es_isograma(cadena_ejemplo):\n",
    "    print(f'La cadena \"{cadena_ejemplo}\" es un isograma.')\n",
    "else:\n",
    "    print (f'La cadena \"{cadena_ejemplo}\" no es un isograma.')"
   ]
  },
  {
   "cell_type": "markdown",
   "metadata": {},
   "source": [
    "8. Concatenar múltiples cadenas de texto.\n",
    "    - Descripción: Crea una función llamada concatenar_cadenas que tome una cantidad variable de cadenas de texto como argumentos y devuelva una única cadena que contenga la concatenación de todas las cadenas ingresadas."
   ]
  },
  {
   "cell_type": "code",
   "execution_count": 123,
   "metadata": {},
   "outputs": [],
   "source": [
    "def concatenar_cadenas (*cadenas):\n",
    "\n",
    "    cadena_concatenada = ''.join (cadenas)\n",
    "\n",
    "    return cadena_concatenada"
   ]
  },
  {
   "cell_type": "code",
   "execution_count": 124,
   "metadata": {},
   "outputs": [
    {
     "data": {
      "text/plain": [
       "'amorromaramostacata'"
      ]
     },
     "execution_count": 124,
     "metadata": {},
     "output_type": "execute_result"
    }
   ],
   "source": [
    "#probamos que funcione\n",
    "\n",
    "cadena1 = 'amor'\n",
    "cadena2 = 'roma'\n",
    "cadena3 = 'ramos'\n",
    "cadena4 = 'tacata'\n",
    "\n",
    "concatenar_cadenas (cadena1, cadena2,cadena3, cadena4)"
   ]
  },
  {
   "cell_type": "markdown",
   "metadata": {},
   "source": [
    "9. Crear un diccionario con información de una persona.\n",
    "    - Descripción: Crea una función llamada crear_persona que tome como argumentos clave-valor los datos de una persona, como nombre, edad, ciudad, etc., y devuelva un diccionario con toda la información ingresada."
   ]
  },
  {
   "cell_type": "code",
   "execution_count": 134,
   "metadata": {},
   "outputs": [],
   "source": [
    "def crear_persona (nombre, edad, ciudad, profesion):\n",
    "    persona = {'nombre': nombre,'edad': edad, 'ciudad': ciudad, 'profesión': profesion}\n",
    "\n",
    "    return persona \n",
    "    "
   ]
  },
  {
   "cell_type": "code",
   "execution_count": 135,
   "metadata": {},
   "outputs": [
    {
     "name": "stdout",
     "output_type": "stream",
     "text": [
      "los datos de la persona son {'nombre': 'Lucia', 'edad': 25, 'ciudad': 'Madrid', 'profesión': 'analista de datos'}\n"
     ]
    }
   ],
   "source": [
    "#probamos que nuestra función funcione\n",
    "\n",
    "nombre_persona = 'Lucia'\n",
    "edad_persona = 25\n",
    "ciudad_persona = 'Madrid'\n",
    "profesion_persona = 'analista de datos'\n",
    "\n",
    "datos_persona = crear_persona (nombre_persona, edad_persona, ciudad_persona, profesion_persona)\n",
    "\n",
    "print (f'los datos de la persona son {datos_persona}')"
   ]
  },
  {
   "cell_type": "code",
   "execution_count": 138,
   "metadata": {},
   "outputs": [
    {
     "name": "stdout",
     "output_type": "stream",
     "text": [
      "los datos de la persona son {'nombre': 'Marta', 'edad': 37, 'ciudad': 'Madrid', 'profesión': 'cajera'}\n"
     ]
    }
   ],
   "source": [
    "#también podemos crear un input para introducir los nombres datos que queramos\n",
    "\n",
    "nombre_persona = (input ('introduzca el nombre'))\n",
    "edad_persona = int (input ('introduzca la edad'))\n",
    "ciudad_persona = (input ('introduzca su lugar de residencia'))\n",
    "profesion_persona = (input ('introduzca su profesión'))\n",
    "\n",
    "datos_persona = crear_persona (nombre_persona, edad_persona, ciudad_persona, profesion_persona)\n",
    "\n",
    "print (f'los datos de la persona son {datos_persona}')\n"
   ]
  },
  {
   "cell_type": "markdown",
   "metadata": {},
   "source": [
    "10. Encontrar el número que falta en una lista ordenada de números consecutivos.\n",
    "    - Descripción: Crea una función llamada encontrar_numero_faltante que tome una lista de números consecutivos (del 1 al N, sin repetir) con un número faltante y devuelva ese número faltante."
   ]
  },
  {
   "cell_type": "code",
   "execution_count": null,
   "metadata": {},
   "outputs": [],
   "source": []
  },
  {
   "cell_type": "markdown",
   "metadata": {},
   "source": [
    "11. Encontrar el elemento duplicado en una lista de números.\n",
    "    - Descripción: Crea una función llamada encontrar_duplicado que tome una lista de números enteros y devuelva el elemento que está duplicado en la lista."
   ]
  },
  {
   "cell_type": "code",
   "execution_count": 12,
   "metadata": {},
   "outputs": [],
   "source": [
    "def encontrar_duplicado(lista):\n",
    "\n",
    "    #los set no permiten tener elementos repetidos, así que podemos usarlo en nuestra función para comprobar si hay elementos repetidos o no\n",
    "    elementos = set()\n",
    "\n",
    "    for elemento in lista:\n",
    "        if elemento in elementos:\n",
    "            return elemento\n",
    "        elementos.add(elemento)\n",
    "\n",
    "    # Si no se encuentra ningún duplicado\n",
    "    return None"
   ]
  },
  {
   "cell_type": "code",
   "execution_count": 13,
   "metadata": {},
   "outputs": [
    {
     "data": {
      "text/plain": [
       "2"
      ]
     },
     "execution_count": 13,
     "metadata": {},
     "output_type": "execute_result"
    }
   ],
   "source": [
    "#probamos nuestra función\n",
    "\n",
    "lista_numeros = [2, 4, 6, 0, 2, 8, 6, 10]\n",
    "\n",
    "encontrar_duplicado (lista_numeros)"
   ]
  }
 ],
 "metadata": {
  "kernelspec": {
   "display_name": "base",
   "language": "python",
   "name": "python3"
  },
  "language_info": {
   "codemirror_mode": {
    "name": "ipython",
    "version": 3
   },
   "file_extension": ".py",
   "mimetype": "text/x-python",
   "name": "python",
   "nbconvert_exporter": "python",
   "pygments_lexer": "ipython3",
   "version": "3.9.7"
  }
 },
 "nbformat": 4,
 "nbformat_minor": 2
}
