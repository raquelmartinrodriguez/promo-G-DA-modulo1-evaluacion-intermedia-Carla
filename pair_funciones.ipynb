{
 "cells": [
  {
   "cell_type": "markdown",
   "metadata": {},
   "source": [
    "Pair programming Funciones"
   ]
  },
  {
   "cell_type": "markdown",
   "metadata": {},
   "source": [
    "1.Calcular el área de un círculo.\n",
    "Descripción: Crea una función llamada calcular_area_circulo que tome el radio como parámetro y devuelva el área del círculo."
   ]
  },
  {
   "cell_type": "code",
   "execution_count": 3,
   "metadata": {},
   "outputs": [
    {
     "name": "stdout",
     "output_type": "stream",
     "text": [
      "50.2656\n"
     ]
    }
   ],
   "source": [
    "r = 4\n",
    "area = 3.1416 * (r ** 2)\n",
    "print(area)"
   ]
  },
  {
   "cell_type": "code",
   "execution_count": 4,
   "metadata": {},
   "outputs": [],
   "source": [
    "def calcular_area_circulo (r):\n",
    "\n",
    "    area = 3.1416 * (r ** 2)\n",
    "\n",
    "    return area"
   ]
  },
  {
   "cell_type": "code",
   "execution_count": 5,
   "metadata": {},
   "outputs": [
    {
     "data": {
      "text/plain": [
       "113.0976"
      ]
     },
     "execution_count": 5,
     "metadata": {},
     "output_type": "execute_result"
    }
   ],
   "source": [
    "calcular_area_circulo (6)\n"
   ]
  },
  {
   "cell_type": "markdown",
   "metadata": {},
   "source": [
    "2. Contar la cantidad de caracteres en una cadena.\n",
    "Descripción: Crea una función llamada contar_caracteres que tome una cadena como parámetro y devuelva la cantidad de caracteres que contiene."
   ]
  },
  {
   "cell_type": "code",
   "execution_count": 13,
   "metadata": {},
   "outputs": [],
   "source": [
    "def contar_caracteres (cadena):\n",
    "    #con el método replace eliminamos los espacios de la cadena\n",
    "    cadena_sin_espacios = cadena.replace (' ','')\n",
    "    #contamos las letras de la cadena sin espacios:\n",
    "    longitud_cadena = len (cadena_sin_espacios)\n",
    "\n",
    "    return longitud_cadena\n"
   ]
  },
  {
   "cell_type": "code",
   "execution_count": 14,
   "metadata": {},
   "outputs": [
    {
     "data": {
      "text/plain": [
       "20"
      ]
     },
     "execution_count": 14,
     "metadata": {},
     "output_type": "execute_result"
    }
   ],
   "source": [
    "cadena_texto = 'python es muy divertido'\n",
    "\n",
    "contar_caracteres (cadena_texto)"
   ]
  },
  {
   "cell_type": "markdown",
   "metadata": {},
   "source": [
    "3.Determinar si una cadena es un palíndromo.\n",
    "Descripción: Crea una función llamada es_palindromo que tome una cadena como parámetro y devuelva True si es un palíndromo, o False si no lo es."
   ]
  },
  {
   "cell_type": "code",
   "execution_count": 40,
   "metadata": {},
   "outputs": [],
   "source": [
    "cadena = 'dabale arroz a la zorra el abad'\n",
    "#convertimos la cadena a misnúscula y quitamos los espacios\n",
    "cadena = cadena.lower().replace(' ','')\n"
   ]
  },
  {
   "cell_type": "code",
   "execution_count": 47,
   "metadata": {},
   "outputs": [],
   "source": [
    "\n",
    "def es_palindromo (cadena):\n",
    "\n",
    "    cadena = cadena.lower().replace(' ','')\n",
    "#comparamos la cadena con su inversa\n",
    "    return cadena == cadena  [::-1]\n",
    "    "
   ]
  },
  {
   "cell_type": "code",
   "execution_count": 49,
   "metadata": {},
   "outputs": [
    {
     "name": "stdout",
     "output_type": "stream",
     "text": [
      "la cadena dabale arroz a la zorra el abad es un palindromo\n"
     ]
    }
   ],
   "source": [
    "nueva_cadena = 'dabale arroz a la zorra el abad'\n",
    "\n",
    "#llamamos a la función para comprobar si la cadena es un palíndromo\n",
    "resultado = es_palindromo (nueva_cadena)\n",
    "\n",
    "#imprimimos el resultado\n",
    "if resultado:\n",
    "    print (f'la cadena {nueva_cadena} es un palindromo')\n",
    "else:\n",
    "    print (f'la cadena {nueva_cadena} no es un palindromo')\n"
   ]
  },
  {
   "cell_type": "markdown",
   "metadata": {},
   "source": [
    "4. Calcular el promedio de una lista de números.\n",
    "    - Descripción: Crea una función llamada calcular_promedio que tome una lista de números como parámetro y devuelva el promedio de todos sus elementos."
   ]
  },
  {
   "cell_type": "code",
   "execution_count": 56,
   "metadata": {},
   "outputs": [
    {
     "data": {
      "text/plain": [
       "21.666666666666668"
      ]
     },
     "execution_count": 56,
     "metadata": {},
     "output_type": "execute_result"
    }
   ],
   "source": [
    "#podemos sacar el promedio de una lista de la siguiente manera\n",
    "\n",
    "lista_numeros = [8, 15, 7, 23, 55, 22]\n",
    "\n",
    "promedio = (sum (lista_numeros)/ len (lista_numeros))\n",
    "\n",
    "promedio\n"
   ]
  },
  {
   "cell_type": "code",
   "execution_count": 58,
   "metadata": {},
   "outputs": [],
   "source": [
    "#ahora creamos la función \n",
    "\n",
    "def calcular_promedio (lista_numeros):\n",
    "    \n",
    "    promedio = (sum (lista_numeros)/ len (lista_numeros))\n",
    "\n",
    "    return promedio"
   ]
  },
  {
   "cell_type": "code",
   "execution_count": 59,
   "metadata": {},
   "outputs": [
    {
     "data": {
      "text/plain": [
       "3.75"
      ]
     },
     "execution_count": 59,
     "metadata": {},
     "output_type": "execute_result"
    }
   ],
   "source": [
    "#probamos que funcione\n",
    "\n",
    "lista2_numeros = [2,3,4,6]\n",
    "\n",
    "calcular_promedio (lista2_numeros)\n"
   ]
  },
  {
   "cell_type": "markdown",
   "metadata": {},
   "source": [
    "5. Calcular el interés compuesto.\n",
    "    - Descripción: Crea una función llamada calcular_interes_compuesto que tome el capital inicial, la tasa de interés y el número de períodos como parámetros y devuelva el beneficio final después del interés compuesto."
   ]
  },
  {
   "cell_type": "code",
   "execution_count": 68,
   "metadata": {},
   "outputs": [],
   "source": [
    "def calcular_interes_compuesto(capital_inicial, tasa_interes, periodos):\n",
    "    \n",
    "    tasa_interes_decimal = tasa_interes / 100.0\n",
    "    \n",
    "    beneficio_final = capital_inicial * (1 + tasa_interes_decimal) ** periodos\n",
    "    \n",
    "    return beneficio_final\n"
   ]
  },
  {
   "cell_type": "code",
   "execution_count": 74,
   "metadata": {},
   "outputs": [
    {
     "name": "stdout",
     "output_type": "stream",
     "text": [
      "el beneficio final después de 12 es de 126.82417945625456\n"
     ]
    }
   ],
   "source": [
    "#probamos la función\n",
    "\n",
    "capital_inicial = 100\n",
    "tasa_interes = 2.0\n",
    "numero_periodos = 12\n",
    "\n",
    "beneficio_final = calcular_interes_compuesto(capital_inicial, tasa_interes, numero_periodos)\n",
    "\n",
    "print (f'el beneficio final después de {numero_periodos} es de {beneficio_final}')\n"
   ]
  }
 ],
 "metadata": {
  "kernelspec": {
   "display_name": "base",
   "language": "python",
   "name": "python3"
  },
  "language_info": {
   "codemirror_mode": {
    "name": "ipython",
    "version": 3
   },
   "file_extension": ".py",
   "mimetype": "text/x-python",
   "name": "python",
   "nbconvert_exporter": "python",
   "pygments_lexer": "ipython3",
   "version": "3.9.7"
  }
 },
 "nbformat": 4,
 "nbformat_minor": 2
}
